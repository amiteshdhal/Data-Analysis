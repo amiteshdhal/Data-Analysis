{
 "cells": [
  {
   "cell_type": "code",
   "execution_count": 2,
   "metadata": {},
   "outputs": [
    {
     "name": "stdout",
     "output_type": "stream",
     "text": [
      "Amitesh\n",
      "Ani\n"
     ]
    }
   ],
   "source": [
    "## Basic Syntax Rules in Python\n",
    "## Case Sensitivity- Python is Case Sensitive\n",
    "## Variable- A variable is something that stores the information\n",
    "\n",
    "name=\"Amitesh\"\n",
    "Name=\"Ani\"\n",
    "\n",
    "print(name)\n",
    "print(Name)\n"
   ]
  },
  {
   "cell_type": "code",
   "execution_count": null,
   "metadata": {},
   "outputs": [],
   "source": [
    "# Indentation\n",
    "## Python uses indentation to define blocks of code. Consistent use of space (commonly 4) or a tab is required."
   ]
  }
 ],
 "metadata": {
  "kernelspec": {
   "display_name": "env",
   "language": "python",
   "name": "python3"
  },
  "language_info": {
   "codemirror_mode": {
    "name": "ipython",
    "version": 3
   },
   "file_extension": ".py",
   "mimetype": "text/x-python",
   "name": "python",
   "nbconvert_exporter": "python",
   "pygments_lexer": "ipython3",
   "version": "3.12.0"
  }
 },
 "nbformat": 4,
 "nbformat_minor": 2
}
